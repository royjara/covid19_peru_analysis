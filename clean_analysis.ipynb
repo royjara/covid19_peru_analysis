{
 "cells": [
  {
   "cell_type": "markdown",
   "metadata": {},
   "source": [
    "# Notebook to visualize the data given user input #\n",
    "\n",
    "Features:\n",
    "- User input = selection\n",
    "- visualization of cumulative sum of positives vs time\n",
    "- seleccion por departamento, provincia, region\n",
    "\n",
    "Future:\n",
    "- Acceleration?\n",
    "- Log scale?\n",
    "\n",
    "useful resource:\n",
    "https://www.dataquest.io/blog/tutorial-time-series-analysis-with-pandas/"
   ]
  },
  {
   "cell_type": "markdown",
   "metadata": {},
   "source": [
    "### Set up session + load files ###"
   ]
  },
  {
   "cell_type": "code",
   "execution_count": 1,
   "metadata": {},
   "outputs": [],
   "source": [
    "%matplotlib inline"
   ]
  },
  {
   "cell_type": "code",
   "execution_count": 2,
   "metadata": {},
   "outputs": [],
   "source": [
    "import numpy as np\n",
    "import pandas as pd\n",
    "import matplotlib.pyplot as plt\n",
    "import seaborn as sns"
   ]
  },
  {
   "cell_type": "code",
   "execution_count": 3,
   "metadata": {},
   "outputs": [],
   "source": [
    "sns.set(rc={'figure.figsize':(11, 4)})"
   ]
  },
  {
   "cell_type": "code",
   "execution_count": 4,
   "metadata": {},
   "outputs": [],
   "source": [
    "input_file = 'data/positivos_covid.csv'\n",
    "df_positivos = pd.read_csv(input_file, \n",
    "                           encoding='ISO-8859-1', \n",
    "                           na_values=\"nan\").drop(columns=['UUID']).dropna(subset=['FECHA_RESULTADO'])\n",
    "# df_positivos"
   ]
  },
  {
   "cell_type": "markdown",
   "metadata": {},
   "source": [
    "Clean dates:\n",
    "- dropna\n",
    "- make column with datetime"
   ]
  },
  {
   "cell_type": "code",
   "execution_count": 15,
   "metadata": {},
   "outputs": [],
   "source": [
    "def add_20(date):\n",
    "    try: \n",
    "        assert(isinstance(date, str))\n",
    "        if date[-4:] != \"2020\":\n",
    "            date = date +\"20\"\n",
    "    except AssertionError:\n",
    "        print('assertionError on ', date)\n",
    "    return date\n",
    "\n",
    "df_positivos['fixed_date'] = df_positivos['FECHA_RESULTADO'].apply(func=add_20)\n",
    "df_positivos['fixed_date'] = pd.to_datetime(df_positivos['fixed_date'], format=\"%d/%m/%Y\")\n",
    "\n",
    "#fixed_date now has datetime + no nans + month/day are right"
   ]
  },
  {
   "cell_type": "markdown",
   "metadata": {},
   "source": [
    "### Filter selection with user input ###\n",
    "\n",
    "Later on, buttons can be made to click instead of type...\n",
    "or maybe dropdown menu"
   ]
  },
  {
   "cell_type": "code",
   "execution_count": 29,
   "metadata": {},
   "outputs": [],
   "source": [
    "# TODO: be able to handle errors\n",
    "def filter_by_location(selection, df = df_positivos):\n",
    "    df['count'] = 1\n",
    "    \n",
    "    if selection['departamento'] != \"\":\n",
    "        df = df[df['DEPARTAMENTO']==selection['departamento']]\n",
    "    else:\n",
    "        df = df.groupby(['fixed_date'], as_index=False)['count'].sum()\n",
    "        df = df.set_index('fixed_date').sort_index()\n",
    "        df['cum'] = df['count'].cumsum()\n",
    "        return df\n",
    "    \n",
    "    if selection['provincia'] != \"\":\n",
    "        df = df[df['PROVINCIA']==selection['provincia']]\n",
    "    else:\n",
    "        df = df.groupby(['DEPARTAMENTO', 'fixed_date'], as_index=False)['count'].sum()\n",
    "        df = df[df['DEPARTAMENTO']==selection['departamento']].set_index('fixed_date').sort_index()\n",
    "        df['cum'] = df['count'].cumsum()\n",
    "        return df\n",
    "    \n",
    "    if selection['distrito'] != \"\":\n",
    "        df = df[df['DISTRITO']==selection['distrito']]\n",
    "        df = df.groupby(['DISTRITO', 'fixed_date'], as_index=False)['count'].sum()\n",
    "        df = df[df['DISTRITO']==selection['distrito']].set_index('fixed_date').sort_index()\n",
    "        df['cum'] = df['count'].cumsum()\n",
    "        return df\n",
    "    else:\n",
    "        df = df.groupby(['PROVINCIA', 'fixed_date'], as_index=False)['count'].sum()\n",
    "        df = df[df['PROVINCIA']==selection['provincia']].set_index('fixed_date').sort_index()\n",
    "        df['cum'] = df['count'].cumsum()\n",
    "        return df"
   ]
  },
  {
   "cell_type": "code",
   "execution_count": 43,
   "metadata": {},
   "outputs": [
    {
     "name": "stdout",
     "output_type": "stream",
     "text": [
      "Departamento?\n",
      "\tloreto\n",
      "Provincia?\n",
      "\t\n",
      "Distrito?\n",
      "\t\n"
     ]
    }
   ],
   "source": [
    "departamento = input(\"Departamento?\\n\\t\").upper()\n",
    "provincia = input(\"Provincia?\\n\\t\").upper()\n",
    "distrito = input(\"Distrito?\\n\\t\").upper()\n",
    "# edad = float(input(\"Edad?\\n\\t\"))  # make it range\n",
    "# metodo = input(\"Metodo? PR/PCR\\n\\t\").upper()\n",
    "# sexo = input(\"Sexo? Masculino/Femenino\\n\\t\").upper()\n",
    "\n",
    "selection = {}\n",
    "selection['departamento'] = departamento\n",
    "selection['provincia'] = provincia\n",
    "selection['distrito'] = distrito\n",
    "# selection['edad'] = edad\n",
    "# selection['metodo'] = metodo\n",
    "# selection['sexo'] = sexo"
   ]
  },
  {
   "cell_type": "code",
   "execution_count": 44,
   "metadata": {},
   "outputs": [],
   "source": [
    "selection_data = filter_by_location(selection)"
   ]
  },
  {
   "cell_type": "code",
   "execution_count": 45,
   "metadata": {},
   "outputs": [
    {
     "data": {
      "text/html": [
       "<div>\n",
       "<style scoped>\n",
       "    .dataframe tbody tr th:only-of-type {\n",
       "        vertical-align: middle;\n",
       "    }\n",
       "\n",
       "    .dataframe tbody tr th {\n",
       "        vertical-align: top;\n",
       "    }\n",
       "\n",
       "    .dataframe thead th {\n",
       "        text-align: right;\n",
       "    }\n",
       "</style>\n",
       "<table border=\"1\" class=\"dataframe\">\n",
       "  <thead>\n",
       "    <tr style=\"text-align: right;\">\n",
       "      <th></th>\n",
       "      <th>DEPARTAMENTO</th>\n",
       "      <th>count</th>\n",
       "      <th>cum</th>\n",
       "    </tr>\n",
       "    <tr>\n",
       "      <th>fixed_date</th>\n",
       "      <th></th>\n",
       "      <th></th>\n",
       "      <th></th>\n",
       "    </tr>\n",
       "  </thead>\n",
       "  <tbody>\n",
       "    <tr>\n",
       "      <td>2020-03-16</td>\n",
       "      <td>LORETO</td>\n",
       "      <td>1</td>\n",
       "      <td>1</td>\n",
       "    </tr>\n",
       "    <tr>\n",
       "      <td>2020-03-17</td>\n",
       "      <td>LORETO</td>\n",
       "      <td>9</td>\n",
       "      <td>10</td>\n",
       "    </tr>\n",
       "    <tr>\n",
       "      <td>2020-03-18</td>\n",
       "      <td>LORETO</td>\n",
       "      <td>1</td>\n",
       "      <td>11</td>\n",
       "    </tr>\n",
       "    <tr>\n",
       "      <td>2020-03-19</td>\n",
       "      <td>LORETO</td>\n",
       "      <td>1</td>\n",
       "      <td>12</td>\n",
       "    </tr>\n",
       "    <tr>\n",
       "      <td>2020-03-20</td>\n",
       "      <td>LORETO</td>\n",
       "      <td>2</td>\n",
       "      <td>14</td>\n",
       "    </tr>\n",
       "    <tr>\n",
       "      <td>...</td>\n",
       "      <td>...</td>\n",
       "      <td>...</td>\n",
       "      <td>...</td>\n",
       "    </tr>\n",
       "    <tr>\n",
       "      <td>2020-06-20</td>\n",
       "      <td>LORETO</td>\n",
       "      <td>87</td>\n",
       "      <td>8375</td>\n",
       "    </tr>\n",
       "    <tr>\n",
       "      <td>2020-06-21</td>\n",
       "      <td>LORETO</td>\n",
       "      <td>15</td>\n",
       "      <td>8390</td>\n",
       "    </tr>\n",
       "    <tr>\n",
       "      <td>2020-06-22</td>\n",
       "      <td>LORETO</td>\n",
       "      <td>205</td>\n",
       "      <td>8595</td>\n",
       "    </tr>\n",
       "    <tr>\n",
       "      <td>2020-06-23</td>\n",
       "      <td>LORETO</td>\n",
       "      <td>109</td>\n",
       "      <td>8704</td>\n",
       "    </tr>\n",
       "    <tr>\n",
       "      <td>2020-06-24</td>\n",
       "      <td>LORETO</td>\n",
       "      <td>3</td>\n",
       "      <td>8707</td>\n",
       "    </tr>\n",
       "  </tbody>\n",
       "</table>\n",
       "<p>98 rows × 3 columns</p>\n",
       "</div>"
      ],
      "text/plain": [
       "           DEPARTAMENTO  count   cum\n",
       "fixed_date                          \n",
       "2020-03-16       LORETO      1     1\n",
       "2020-03-17       LORETO      9    10\n",
       "2020-03-18       LORETO      1    11\n",
       "2020-03-19       LORETO      1    12\n",
       "2020-03-20       LORETO      2    14\n",
       "...                 ...    ...   ...\n",
       "2020-06-20       LORETO     87  8375\n",
       "2020-06-21       LORETO     15  8390\n",
       "2020-06-22       LORETO    205  8595\n",
       "2020-06-23       LORETO    109  8704\n",
       "2020-06-24       LORETO      3  8707\n",
       "\n",
       "[98 rows x 3 columns]"
      ]
     },
     "execution_count": 45,
     "metadata": {},
     "output_type": "execute_result"
    }
   ],
   "source": [
    "selection_data"
   ]
  },
  {
   "cell_type": "code",
   "execution_count": 46,
   "metadata": {},
   "outputs": [
    {
     "data": {
      "image/png": "[encoded data removed]",
      "text/plain": [
       "<Figure size 792x288 with 1 Axes>"
      ]
     },
     "metadata": {},
     "output_type": "display_data"
    }
   ],
   "source": [
    "selection_data['cum'].plot(linewidth=0.8);\n",
    "# selection_data['count'].plot(linewidth=0.8);"
   ]
  },
  {
   "cell_type": "code",
   "execution_count": null,
   "metadata": {},
   "outputs": [],
   "source": []
  },
  {
   "cell_type": "code",
   "execution_count": null,
   "metadata": {},
   "outputs": [],
   "source": []
  }
 ],
 "metadata": {
  "kernelspec": {
   "display_name": "Python 3",
   "language": "python",
   "name": "python3"
  },
  "language_info": {
   "codemirror_mode": {
    "name": "ipython",
    "version": 3
   },
   "file_extension": ".py",
   "mimetype": "text/x-python",
   "name": "python",
   "nbconvert_exporter": "python",
   "pygments_lexer": "ipython3",
   "version": "3.7.4"
  }
 },
 "nbformat": 4,
 "nbformat_minor": 2
}
